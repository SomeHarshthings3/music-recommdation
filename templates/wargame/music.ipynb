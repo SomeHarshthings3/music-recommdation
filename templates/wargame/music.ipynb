{
 "cells": [
  {
   "cell_type": "code",
   "execution_count": 1,
   "id": "0e8cd403-1ad9-449e-a908-a632a7027e28",
   "metadata": {},
   "outputs": [],
   "source": [
    "import pandas as pd\n",
    "import numpy as np"
   ]
  },
  {
   "cell_type": "code",
   "execution_count": 2,
   "id": "c8c36c9c-6472-46d1-8649-e19a460fbae6",
   "metadata": {},
   "outputs": [
    {
     "data": {
      "text/html": [
       "<div>\n",
       "<style scoped>\n",
       "    .dataframe tbody tr th:only-of-type {\n",
       "        vertical-align: middle;\n",
       "    }\n",
       "\n",
       "    .dataframe tbody tr th {\n",
       "        vertical-align: top;\n",
       "    }\n",
       "\n",
       "    .dataframe thead th {\n",
       "        text-align: right;\n",
       "    }\n",
       "</style>\n",
       "<table border=\"1\" class=\"dataframe\">\n",
       "  <thead>\n",
       "    <tr style=\"text-align: right;\">\n",
       "      <th></th>\n",
       "      <th>artist</th>\n",
       "      <th>song</th>\n",
       "      <th>link</th>\n",
       "      <th>text</th>\n",
       "    </tr>\n",
       "  </thead>\n",
       "  <tbody>\n",
       "    <tr>\n",
       "      <th>0</th>\n",
       "      <td>ABBA</td>\n",
       "      <td>Ahe's My Kind Of Girl</td>\n",
       "      <td>/a/abba/ahes+my+kind+of+girl_20598417.html</td>\n",
       "      <td>Look at her face, it's a wonderful face  \\nAnd...</td>\n",
       "    </tr>\n",
       "    <tr>\n",
       "      <th>1</th>\n",
       "      <td>ABBA</td>\n",
       "      <td>Andante, Andante</td>\n",
       "      <td>/a/abba/andante+andante_20002708.html</td>\n",
       "      <td>Take it easy with me, please  \\nTouch me gentl...</td>\n",
       "    </tr>\n",
       "    <tr>\n",
       "      <th>2</th>\n",
       "      <td>ABBA</td>\n",
       "      <td>As Good As New</td>\n",
       "      <td>/a/abba/as+good+as+new_20003033.html</td>\n",
       "      <td>I'll never know why I had to go  \\nWhy I had t...</td>\n",
       "    </tr>\n",
       "  </tbody>\n",
       "</table>\n",
       "</div>"
      ],
      "text/plain": [
       "  artist                   song                                        link  \\\n",
       "0   ABBA  Ahe's My Kind Of Girl  /a/abba/ahes+my+kind+of+girl_20598417.html   \n",
       "1   ABBA       Andante, Andante       /a/abba/andante+andante_20002708.html   \n",
       "2   ABBA         As Good As New        /a/abba/as+good+as+new_20003033.html   \n",
       "\n",
       "                                                text  \n",
       "0  Look at her face, it's a wonderful face  \\nAnd...  \n",
       "1  Take it easy with me, please  \\nTouch me gentl...  \n",
       "2  I'll never know why I had to go  \\nWhy I had t...  "
      ]
     },
     "execution_count": 2,
     "metadata": {},
     "output_type": "execute_result"
    }
   ],
   "source": [
    "df = pd.read_csv('C:\\deskone\\Desktop\\wargame\\songdata.csv')\n",
    "df.head(3)"
   ]
  },
  {
   "cell_type": "code",
   "execution_count": 3,
   "id": "538276ad-7119-434c-a5b6-1e6db62dfc7e",
   "metadata": {},
   "outputs": [
    {
     "data": {
      "text/plain": [
       "(57650, 4)"
      ]
     },
     "execution_count": 3,
     "metadata": {},
     "output_type": "execute_result"
    }
   ],
   "source": [
    "df.shape"
   ]
  },
  {
   "cell_type": "code",
   "execution_count": 4,
   "id": "c7ba510d-4ac7-4708-8479-e724c4e77c47",
   "metadata": {},
   "outputs": [],
   "source": [
    "df = df.sample(n=5000).drop('link', axis=1).reset_index(drop=True)"
   ]
  },
  {
   "cell_type": "code",
   "execution_count": 5,
   "id": "7508716b-4f35-4eb3-a41d-b80d2cc835fb",
   "metadata": {},
   "outputs": [
    {
     "data": {
      "text/plain": [
       "(5000, 3)"
      ]
     },
     "execution_count": 5,
     "metadata": {},
     "output_type": "execute_result"
    }
   ],
   "source": [
    "df.shape"
   ]
  },
  {
   "cell_type": "code",
   "execution_count": 6,
   "id": "2fa833e7-5f16-48cb-a1cf-feecb49c7c67",
   "metadata": {},
   "outputs": [
    {
     "data": {
      "text/plain": [
       "\"With the breaking of the dawn  \\nI will peek beyond the glass  \\nThere' s an endless stretch of blue below  \\nAn ocean cold and vast  \\nI am traveling again  \\nBetween the heavens and the clouds  \\nReaching out, turning a vision  \\nInto a future, strong and proud  \\n  \\nBut I say, oh, there' s nothing more I desire  \\nThan to spend my life with you  \\nSetting me gently on fire.  \\n  \\nWe' re a very special two  \\nOnly you can understand  \\nWalking parallel, on separate paths,  \\nBut always holding hands.  \\nAs we lay our yellow bricks  \\nOn the road to something better  \\nCan we find a point of meeting  \\nAnd continue on together?  \\n  \\nAnd I say, oh, - there' s nothing more I desire  \\nThan to spend my life with you  \\nSetting me gently on fire.\\n\\n\""
      ]
     },
     "execution_count": 6,
     "metadata": {},
     "output_type": "execute_result"
    }
   ],
   "source": [
    "df['text'][0]"
   ]
  },
  {
   "cell_type": "code",
   "execution_count": 7,
   "id": "14608545-b17d-492e-b798-932dfc7d7b0a",
   "metadata": {},
   "outputs": [
    {
     "data": {
      "text/plain": [
       "0       with the breaking of the dawn   i will peek be...\n",
       "1       me i'm just a poor boy, from across the far so...\n",
       "2       i come to you with strange fire   i make an of...\n",
       "3       believe me, that's just a lie   that's what sh...\n",
       "4       park the car at the side of the road   you sho...\n",
       "                              ...                        \n",
       "4995    sophistophone, aristocrats   distinguished sta...\n",
       "4996    i'm in love with the sunshine   i'm in love wi...\n",
       "4997    oh you are lying (lying), you said it was fore...\n",
       "4998    introduction   god bless america, the land tha...\n",
       "4999    i once knew a girl   i can't remember her name...\n",
       "Name: text, Length: 5000, dtype: object"
      ]
     },
     "execution_count": 7,
     "metadata": {},
     "output_type": "execute_result"
    }
   ],
   "source": [
    " df['text'].str.lower().replace(r'[^\\w\\s]','').replace(r'\\n',' ', regex=True)"
   ]
  },
  {
   "cell_type": "code",
   "execution_count": 8,
   "id": "5984d98a-b831-43bd-82a4-80964bf0296e",
   "metadata": {},
   "outputs": [],
   "source": [
    "df['text'] = df['text'].str.lower().replace(r'[^\\w\\s]','').replace(r'\\n',' ', regex=True)"
   ]
  },
  {
   "cell_type": "code",
   "execution_count": 9,
   "id": "bcac0016-645f-44cd-9cde-36e82683c0fb",
   "metadata": {},
   "outputs": [
    {
     "data": {
      "text/plain": [
       "\"with the breaking of the dawn   i will peek beyond the glass   there' s an endless stretch of blue below   an ocean cold and vast   i am traveling again   between the heavens and the clouds   reaching out, turning a vision   into a future, strong and proud      but i say, oh, there' s nothing more i desire   than to spend my life with you   setting me gently on fire.      we' re a very special two   only you can understand   walking parallel, on separate paths,   but always holding hands.   as we lay our yellow bricks   on the road to something better   can we find a point of meeting   and continue on together?      and i say, oh, - there' s nothing more i desire   than to spend my life with you   setting me gently on fire.  \""
      ]
     },
     "execution_count": 9,
     "metadata": {},
     "output_type": "execute_result"
    }
   ],
   "source": [
    "df['text'][0]"
   ]
  },
  {
   "cell_type": "code",
   "execution_count": 12,
   "id": "e661056f-e616-42b9-bb00-3a38ea912565",
   "metadata": {},
   "outputs": [],
   "source": [
    "import nltk\n",
    "from nltk.stem.porter import PorterStemmer\n",
    "ps = PorterStemmer()\n",
    "\n",
    "def tokenization(txt):\n",
    "    tokens = nltk.word_tokenize(txt)\n",
    "    stemming = [ps.stem(w) for w in tokens]\n",
    "    return \" \".join(stemming)"
   ]
  },
  {
   "cell_type": "code",
   "execution_count": 13,
   "id": "6fc99456-4b96-4b2b-9e8f-39e4d95240bf",
   "metadata": {},
   "outputs": [
    {
     "data": {
      "text/plain": [
       "'thi is my love love'"
      ]
     },
     "execution_count": 13,
     "metadata": {},
     "output_type": "execute_result"
    }
   ],
   "source": [
    "tokenization('this is my loving loved')"
   ]
  },
  {
   "cell_type": "code",
   "execution_count": 14,
   "id": "f6304935-283c-4fe4-849b-1ad1a88e1468",
   "metadata": {},
   "outputs": [],
   "source": [
    "df['text'] = df['text'].apply(lambda x: tokenization(x))"
   ]
  },
  {
   "cell_type": "code",
   "execution_count": 15,
   "id": "75e7576d-9856-45f1-bf53-f2c4a22bf5e1",
   "metadata": {},
   "outputs": [],
   "source": [
    "from sklearn.feature_extraction.text import TfidfVectorizer\n",
    "from sklearn.metrics.pairwise import cosine_similarity"
   ]
  },
  {
   "cell_type": "code",
   "execution_count": 17,
   "id": "6fab95ae-eecc-4d92-b922-6898aef8b910",
   "metadata": {},
   "outputs": [],
   "source": [
    "tfid = TfidfVectorizer(stop_words='english')\n",
    "matrix = tfid.fit_transform(df['text'])"
   ]
  },
  {
   "cell_type": "code",
   "execution_count": 18,
   "id": "f68d3a80-a4d7-46bb-8a89-c87d8d272fa6",
   "metadata": {},
   "outputs": [
    {
     "data": {
      "text/plain": [
       "<5000x17481 sparse matrix of type '<class 'numpy.float64'>'\n",
       "\twith 277737 stored elements in Compressed Sparse Row format>"
      ]
     },
     "execution_count": 18,
     "metadata": {},
     "output_type": "execute_result"
    }
   ],
   "source": [
    "matrix"
   ]
  },
  {
   "cell_type": "code",
   "execution_count": 19,
   "id": "72655b92-ec08-430d-a173-9fa4ef13545a",
   "metadata": {},
   "outputs": [
    {
     "data": {
      "text/plain": [
       "(5000, 17481)"
      ]
     },
     "execution_count": 19,
     "metadata": {},
     "output_type": "execute_result"
    }
   ],
   "source": [
    "matrix.shape"
   ]
  },
  {
   "cell_type": "code",
   "execution_count": 20,
   "id": "b34d6376-24cc-47e5-8adf-db73bcb8816d",
   "metadata": {},
   "outputs": [],
   "source": [
    "similarity = cosine_similarity(matrix)"
   ]
  },
  {
   "cell_type": "code",
   "execution_count": 21,
   "id": "2b4654c2-9257-4b46-8827-eb7aaa649b82",
   "metadata": {},
   "outputs": [
    {
     "data": {
      "text/plain": [
       "array([[1.        , 0.03265957, 0.02342463, ..., 0.01842125, 0.02403999,\n",
       "        0.0050768 ],\n",
       "       [0.03265957, 1.        , 0.01135866, ..., 0.01615333, 0.03451872,\n",
       "        0.03251951],\n",
       "       [0.02342463, 0.01135866, 1.        , ..., 0.03813211, 0.04401934,\n",
       "        0.05608708],\n",
       "       ...,\n",
       "       [0.01842125, 0.01615333, 0.03813211, ..., 1.        , 0.00405421,\n",
       "        0.02342769],\n",
       "       [0.02403999, 0.03451872, 0.04401934, ..., 0.00405421, 1.        ,\n",
       "        0.0131174 ],\n",
       "       [0.0050768 , 0.03251951, 0.05608708, ..., 0.02342769, 0.0131174 ,\n",
       "        1.        ]])"
      ]
     },
     "execution_count": 21,
     "metadata": {},
     "output_type": "execute_result"
    }
   ],
   "source": [
    "similarity"
   ]
  },
  {
   "cell_type": "code",
   "execution_count": 22,
   "id": "a8649d4b-7bdb-41d0-ae3f-d52eae52f331",
   "metadata": {},
   "outputs": [
    {
     "data": {
      "text/plain": [
       "'Desire'"
      ]
     },
     "execution_count": 22,
     "metadata": {},
     "output_type": "execute_result"
    }
   ],
   "source": [
    "df['song'][0]"
   ]
  },
  {
   "cell_type": "code",
   "execution_count": 23,
   "id": "4919af9d-4e1c-4700-9226-352a1570b980",
   "metadata": {},
   "outputs": [
    {
     "data": {
      "text/html": [
       "<div>\n",
       "<style scoped>\n",
       "    .dataframe tbody tr th:only-of-type {\n",
       "        vertical-align: middle;\n",
       "    }\n",
       "\n",
       "    .dataframe tbody tr th {\n",
       "        vertical-align: top;\n",
       "    }\n",
       "\n",
       "    .dataframe thead th {\n",
       "        text-align: right;\n",
       "    }\n",
       "</style>\n",
       "<table border=\"1\" class=\"dataframe\">\n",
       "  <thead>\n",
       "    <tr style=\"text-align: right;\">\n",
       "      <th></th>\n",
       "      <th>artist</th>\n",
       "      <th>song</th>\n",
       "      <th>text</th>\n",
       "    </tr>\n",
       "  </thead>\n",
       "  <tbody>\n",
       "    <tr>\n",
       "      <th>0</th>\n",
       "      <td>Noa</td>\n",
       "      <td>Desire</td>\n",
       "      <td>with the break of the dawn i will peek beyond ...</td>\n",
       "    </tr>\n",
       "    <tr>\n",
       "      <th>2533</th>\n",
       "      <td>Slayer</td>\n",
       "      <td>Desire</td>\n",
       "      <td>no one could ever doubt my raptur as you too w...</td>\n",
       "    </tr>\n",
       "  </tbody>\n",
       "</table>\n",
       "</div>"
      ],
      "text/plain": [
       "      artist    song                                               text\n",
       "0        Noa  Desire  with the break of the dawn i will peek beyond ...\n",
       "2533  Slayer  Desire  no one could ever doubt my raptur as you too w..."
      ]
     },
     "execution_count": 23,
     "metadata": {},
     "output_type": "execute_result"
    }
   ],
   "source": [
    "df[df['song']=='Desire']"
   ]
  },
  {
   "cell_type": "code",
   "execution_count": 32,
   "id": "1efa27ca-82d9-4d81-9ff2-62a4f7271e33",
   "metadata": {},
   "outputs": [],
   "source": [
    "def recommendation(song):\n",
    "    idx = df[df['song'] == song].index[0]\n",
    "    distances = sorted(list(enumerate(similarity[idx])),reverse=False,key=lambda x:x[1])\n",
    "    \n",
    "    songs = []\n",
    "    for i in distances[1:21]:\n",
    "        songs.append(df.iloc[i[0]].song)\n",
    "        \n",
    "    return songs"
   ]
  },
  {
   "cell_type": "code",
   "execution_count": 34,
   "id": "d3b5e806-92ea-4dfc-a227-deda336b7c15",
   "metadata": {},
   "outputs": [
    {
     "data": {
      "text/plain": [
       "['Everything Grows',\n",
       " 'Ride',\n",
       " 'Krs-One',\n",
       " 'Junk',\n",
       " 'Kota',\n",
       " 'Marigold',\n",
       " 'Piggies',\n",
       " 'Mann Mein Kisi Ki Preet Basa Le',\n",
       " 'Aku Cinta Kau Dan Dia',\n",
       " 'Five Magics',\n",
       " 'Tonight',\n",
       " 'Mississippi River',\n",
       " 'Phenomena',\n",
       " 'Mundzumundbeatmung',\n",
       " 'Pesawat Tempurku',\n",
       " 'Doa Pengorbral Dosa',\n",
       " 'Once In A Lifetime',\n",
       " \"Let 'em In\",\n",
       " 'River Jordan',\n",
       " 'Sharks']"
      ]
     },
     "execution_count": 34,
     "metadata": {},
     "output_type": "execute_result"
    }
   ],
   "source": [
    "recommendation('The Way It Was')"
   ]
  },
  {
   "cell_type": "code",
   "execution_count": 36,
   "id": "16c2d305-d6a1-4dfd-9de7-f037711918ec",
   "metadata": {},
   "outputs": [],
   "source": [
    "import pickle\n",
    "pickle.dump(similarity,open('similarity.pkl','wb'))\n",
    "pickle.dump(df,open('df.pkl','wb'))"
   ]
  },
  {
   "cell_type": "code",
   "execution_count": null,
   "id": "c2b5fee7-371b-4507-bd11-5a127499d484",
   "metadata": {},
   "outputs": [],
   "source": []
  }
 ],
 "metadata": {
  "kernelspec": {
   "display_name": "Python 3 (ipykernel)",
   "language": "python",
   "name": "python3"
  },
  "language_info": {
   "codemirror_mode": {
    "name": "ipython",
    "version": 3
   },
   "file_extension": ".py",
   "mimetype": "text/x-python",
   "name": "python",
   "nbconvert_exporter": "python",
   "pygments_lexer": "ipython3",
   "version": "3.11.4"
  }
 },
 "nbformat": 4,
 "nbformat_minor": 5
}
