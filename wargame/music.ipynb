{
 "cells": [
  {
   "cell_type": "code",
   "execution_count": 1,
   "id": "0e8cd403-1ad9-449e-a908-a632a7027e28",
   "metadata": {},
   "outputs": [],
   "source": [
    "import pandas as pd\n",
    "import numpy as np"
   ]
  },
  {
   "cell_type": "code",
   "execution_count": 3,
   "id": "c8c36c9c-6472-46d1-8649-e19a460fbae6",
   "metadata": {},
   "outputs": [
    {
     "data": {
      "text/html": [
       "<div>\n",
       "<style scoped>\n",
       "    .dataframe tbody tr th:only-of-type {\n",
       "        vertical-align: middle;\n",
       "    }\n",
       "\n",
       "    .dataframe tbody tr th {\n",
       "        vertical-align: top;\n",
       "    }\n",
       "\n",
       "    .dataframe thead th {\n",
       "        text-align: right;\n",
       "    }\n",
       "</style>\n",
       "<table border=\"1\" class=\"dataframe\">\n",
       "  <thead>\n",
       "    <tr style=\"text-align: right;\">\n",
       "      <th></th>\n",
       "      <th>artist</th>\n",
       "      <th>song</th>\n",
       "      <th>link</th>\n",
       "      <th>text</th>\n",
       "    </tr>\n",
       "  </thead>\n",
       "  <tbody>\n",
       "    <tr>\n",
       "      <th>0</th>\n",
       "      <td>ABBA</td>\n",
       "      <td>Ahe's My Kind Of Girl</td>\n",
       "      <td>/a/abba/ahes+my+kind+of+girl_20598417.html</td>\n",
       "      <td>Look at her face, it's a wonderful face  \\nAnd...</td>\n",
       "    </tr>\n",
       "    <tr>\n",
       "      <th>1</th>\n",
       "      <td>ABBA</td>\n",
       "      <td>Andante, Andante</td>\n",
       "      <td>/a/abba/andante+andante_20002708.html</td>\n",
       "      <td>Take it easy with me, please  \\nTouch me gentl...</td>\n",
       "    </tr>\n",
       "    <tr>\n",
       "      <th>2</th>\n",
       "      <td>ABBA</td>\n",
       "      <td>As Good As New</td>\n",
       "      <td>/a/abba/as+good+as+new_20003033.html</td>\n",
       "      <td>I'll never know why I had to go  \\nWhy I had t...</td>\n",
       "    </tr>\n",
       "  </tbody>\n",
       "</table>\n",
       "</div>"
      ],
      "text/plain": [
       "  artist                   song                                        link  \\\n",
       "0   ABBA  Ahe's My Kind Of Girl  /a/abba/ahes+my+kind+of+girl_20598417.html   \n",
       "1   ABBA       Andante, Andante       /a/abba/andante+andante_20002708.html   \n",
       "2   ABBA         As Good As New        /a/abba/as+good+as+new_20003033.html   \n",
       "\n",
       "                                                text  \n",
       "0  Look at her face, it's a wonderful face  \\nAnd...  \n",
       "1  Take it easy with me, please  \\nTouch me gentl...  \n",
       "2  I'll never know why I had to go  \\nWhy I had t...  "
      ]
     },
     "execution_count": 3,
     "metadata": {},
     "output_type": "execute_result"
    }
   ],
   "source": [
    "df = pd.read_csv('C:\\deskone\\Desktop\\musicapp\\wargame\\songdata.csv')\n",
    "df.head(3)"
   ]
  },
  {
   "cell_type": "code",
   "execution_count": 4,
   "id": "538276ad-7119-434c-a5b6-1e6db62dfc7e",
   "metadata": {},
   "outputs": [
    {
     "data": {
      "text/plain": [
       "(57650, 4)"
      ]
     },
     "execution_count": 4,
     "metadata": {},
     "output_type": "execute_result"
    }
   ],
   "source": [
    "df.shape"
   ]
  },
  {
   "cell_type": "code",
   "execution_count": 5,
   "id": "c7ba510d-4ac7-4708-8479-e724c4e77c47",
   "metadata": {},
   "outputs": [],
   "source": [
    "df = df.sample(n=5000).drop('link', axis=1).reset_index(drop=True)"
   ]
  },
  {
   "cell_type": "code",
   "execution_count": 6,
   "id": "7508716b-4f35-4eb3-a41d-b80d2cc835fb",
   "metadata": {},
   "outputs": [
    {
     "data": {
      "text/plain": [
       "(5000, 3)"
      ]
     },
     "execution_count": 6,
     "metadata": {},
     "output_type": "execute_result"
    }
   ],
   "source": [
    "df.shape"
   ]
  },
  {
   "cell_type": "code",
   "execution_count": 7,
   "id": "2fa833e7-5f16-48cb-a1cf-feecb49c7c67",
   "metadata": {},
   "outputs": [
    {
     "data": {
      "text/plain": [
       "\"This world that I live in is empty and cold  \\nThis loneliness cuts me and tears at my soul  \\nI'm no child of destiny, no fortune's son  \\nI've just chased you so long now, I'm too weak to run  \\nSo here I return to a back street of thrills  \\nBack to any warm shoulder till she's got her fill  \\nAnd then I treat shame like an old friend from home  \\nThat I can lean on till the misery is gone  \\nA new day is here yet nothing is new  \\nYou're still gone and I tremble for you  \\nI cry out at bedtime no, please not tonight  \\nBut again there's your footsteps and I turn on the light  \\nOf course you're not there, no, you never are  \\nThen I try to forget that there's always a bar  \\nAnd well, I win that battle, yes, sometimes I do  \\nBut sleep doesn't come when I tremble for you  \\n\\n\""
      ]
     },
     "execution_count": 7,
     "metadata": {},
     "output_type": "execute_result"
    }
   ],
   "source": [
    "df['text'][0]"
   ]
  },
  {
   "cell_type": "code",
   "execution_count": 8,
   "id": "14608545-b17d-492e-b798-932dfc7d7b0a",
   "metadata": {},
   "outputs": [
    {
     "data": {
      "text/plain": [
       "0       this world that i live in is empty and cold   ...\n",
       "1       from the very start   it came apart   it broke...\n",
       "2       got to be there, got to be there in the mornin...\n",
       "3       there was smoke in the air   when he came arou...\n",
       "4       well, things were spinning round me   and all ...\n",
       "                              ...                        \n",
       "4995    i'm uneducated   my clothes outdated   i'm not...\n",
       "4996    uh uh   i friend of mine was talking   i was e...\n",
       "4997    there's no method in my madness, no craft, no ...\n",
       "4998    oh, i'm so alone.   hey daddy, daddy, daddy, d...\n",
       "4999    you want to know why you feel so hollow?   bec...\n",
       "Name: text, Length: 5000, dtype: object"
      ]
     },
     "execution_count": 8,
     "metadata": {},
     "output_type": "execute_result"
    }
   ],
   "source": [
    " df['text'].str.lower().replace(r'[^\\w\\s]','').replace(r'\\n',' ', regex=True)"
   ]
  },
  {
   "cell_type": "code",
   "execution_count": 9,
   "id": "5984d98a-b831-43bd-82a4-80964bf0296e",
   "metadata": {},
   "outputs": [],
   "source": [
    "df['text'] = df['text'].str.lower().replace(r'[^\\w\\s]','').replace(r'\\n',' ', regex=True)"
   ]
  },
  {
   "cell_type": "code",
   "execution_count": 10,
   "id": "bcac0016-645f-44cd-9cde-36e82683c0fb",
   "metadata": {},
   "outputs": [
    {
     "data": {
      "text/plain": [
       "\"this world that i live in is empty and cold   this loneliness cuts me and tears at my soul   i'm no child of destiny, no fortune's son   i've just chased you so long now, i'm too weak to run   so here i return to a back street of thrills   back to any warm shoulder till she's got her fill   and then i treat shame like an old friend from home   that i can lean on till the misery is gone   a new day is here yet nothing is new   you're still gone and i tremble for you   i cry out at bedtime no, please not tonight   but again there's your footsteps and i turn on the light   of course you're not there, no, you never are   then i try to forget that there's always a bar   and well, i win that battle, yes, sometimes i do   but sleep doesn't come when i tremble for you    \""
      ]
     },
     "execution_count": 10,
     "metadata": {},
     "output_type": "execute_result"
    }
   ],
   "source": [
    "df['text'][0]"
   ]
  },
  {
   "cell_type": "code",
   "execution_count": 11,
   "id": "e661056f-e616-42b9-bb00-3a38ea912565",
   "metadata": {},
   "outputs": [],
   "source": [
    "import nltk\n",
    "from nltk.stem.porter import PorterStemmer\n",
    "ps = PorterStemmer()\n",
    "\n",
    "def tokenization(txt):\n",
    "    tokens = nltk.word_tokenize(txt)\n",
    "    stemming = [ps.stem(w) for w in tokens]\n",
    "    return \" \".join(stemming)"
   ]
  },
  {
   "cell_type": "code",
   "execution_count": 12,
   "id": "6fc99456-4b96-4b2b-9e8f-39e4d95240bf",
   "metadata": {},
   "outputs": [
    {
     "data": {
      "text/plain": [
       "'thi is my love love'"
      ]
     },
     "execution_count": 12,
     "metadata": {},
     "output_type": "execute_result"
    }
   ],
   "source": [
    "tokenization('this is my loving loved')"
   ]
  },
  {
   "cell_type": "code",
   "execution_count": 13,
   "id": "f6304935-283c-4fe4-849b-1ad1a88e1468",
   "metadata": {},
   "outputs": [],
   "source": [
    "df['text'] = df['text'].apply(lambda x: tokenization(x))"
   ]
  },
  {
   "cell_type": "code",
   "execution_count": 14,
   "id": "75e7576d-9856-45f1-bf53-f2c4a22bf5e1",
   "metadata": {},
   "outputs": [],
   "source": [
    "from sklearn.feature_extraction.text import TfidfVectorizer\n",
    "from sklearn.metrics.pairwise import cosine_similarity"
   ]
  },
  {
   "cell_type": "code",
   "execution_count": 15,
   "id": "6fab95ae-eecc-4d92-b922-6898aef8b910",
   "metadata": {},
   "outputs": [],
   "source": [
    "tfid = TfidfVectorizer(stop_words='english')\n",
    "matrix = tfid.fit_transform(df['text'])"
   ]
  },
  {
   "cell_type": "code",
   "execution_count": 16,
   "id": "f68d3a80-a4d7-46bb-8a89-c87d8d272fa6",
   "metadata": {},
   "outputs": [
    {
     "data": {
      "text/plain": [
       "<5000x16841 sparse matrix of type '<class 'numpy.float64'>'\n",
       "\twith 277232 stored elements in Compressed Sparse Row format>"
      ]
     },
     "execution_count": 16,
     "metadata": {},
     "output_type": "execute_result"
    }
   ],
   "source": [
    "matrix"
   ]
  },
  {
   "cell_type": "code",
   "execution_count": 17,
   "id": "72655b92-ec08-430d-a173-9fa4ef13545a",
   "metadata": {},
   "outputs": [
    {
     "data": {
      "text/plain": [
       "(5000, 16841)"
      ]
     },
     "execution_count": 17,
     "metadata": {},
     "output_type": "execute_result"
    }
   ],
   "source": [
    "matrix.shape"
   ]
  },
  {
   "cell_type": "code",
   "execution_count": 18,
   "id": "b34d6376-24cc-47e5-8adf-db73bcb8816d",
   "metadata": {},
   "outputs": [],
   "source": [
    "similarity = cosine_similarity(matrix)"
   ]
  },
  {
   "cell_type": "code",
   "execution_count": 19,
   "id": "2b4654c2-9257-4b46-8827-eb7aaa649b82",
   "metadata": {},
   "outputs": [
    {
     "data": {
      "text/plain": [
       "array([[1.        , 0.02501336, 0.07377327, ..., 0.0374211 , 0.05765081,\n",
       "        0.04467158],\n",
       "       [0.02501336, 1.        , 0.01472039, ..., 0.01326892, 0.02827992,\n",
       "        0.03556619],\n",
       "       [0.07377327, 0.01472039, 1.        , ..., 0.16846549, 0.2477248 ,\n",
       "        0.06102839],\n",
       "       ...,\n",
       "       [0.0374211 , 0.01326892, 0.16846549, ..., 1.        , 0.07801444,\n",
       "        0.02237985],\n",
       "       [0.05765081, 0.02827992, 0.2477248 , ..., 0.07801444, 1.        ,\n",
       "        0.09077228],\n",
       "       [0.04467158, 0.03556619, 0.06102839, ..., 0.02237985, 0.09077228,\n",
       "        1.        ]])"
      ]
     },
     "execution_count": 19,
     "metadata": {},
     "output_type": "execute_result"
    }
   ],
   "source": [
    "similarity"
   ]
  },
  {
   "cell_type": "code",
   "execution_count": 20,
   "id": "a8649d4b-7bdb-41d0-ae3f-d52eae52f331",
   "metadata": {},
   "outputs": [
    {
     "data": {
      "text/plain": [
       "'I Tremble For You'"
      ]
     },
     "execution_count": 20,
     "metadata": {},
     "output_type": "execute_result"
    }
   ],
   "source": [
    "df['song'][0]"
   ]
  },
  {
   "cell_type": "code",
   "execution_count": 21,
   "id": "4919af9d-4e1c-4700-9226-352a1570b980",
   "metadata": {},
   "outputs": [
    {
     "data": {
      "text/html": [
       "<div>\n",
       "<style scoped>\n",
       "    .dataframe tbody tr th:only-of-type {\n",
       "        vertical-align: middle;\n",
       "    }\n",
       "\n",
       "    .dataframe tbody tr th {\n",
       "        vertical-align: top;\n",
       "    }\n",
       "\n",
       "    .dataframe thead th {\n",
       "        text-align: right;\n",
       "    }\n",
       "</style>\n",
       "<table border=\"1\" class=\"dataframe\">\n",
       "  <thead>\n",
       "    <tr style=\"text-align: right;\">\n",
       "      <th></th>\n",
       "      <th>artist</th>\n",
       "      <th>song</th>\n",
       "      <th>text</th>\n",
       "    </tr>\n",
       "  </thead>\n",
       "  <tbody>\n",
       "    <tr>\n",
       "      <th>2425</th>\n",
       "      <td>Zwan</td>\n",
       "      <td>Desire</td>\n",
       "      <td>northern star am i frighten where can i go to ...</td>\n",
       "    </tr>\n",
       "    <tr>\n",
       "      <th>2897</th>\n",
       "      <td>Bee Gees</td>\n",
       "      <td>Desire</td>\n",
       "      <td>we may be big or small or black or white , ete...</td>\n",
       "    </tr>\n",
       "  </tbody>\n",
       "</table>\n",
       "</div>"
      ],
      "text/plain": [
       "        artist    song                                               text\n",
       "2425      Zwan  Desire  northern star am i frighten where can i go to ...\n",
       "2897  Bee Gees  Desire  we may be big or small or black or white , ete..."
      ]
     },
     "execution_count": 21,
     "metadata": {},
     "output_type": "execute_result"
    }
   ],
   "source": [
    "df[df['song']=='Desire']"
   ]
  },
  {
   "cell_type": "code",
   "execution_count": 22,
   "id": "1efa27ca-82d9-4d81-9ff2-62a4f7271e33",
   "metadata": {},
   "outputs": [],
   "source": [
    "def recommendation(song):\n",
    "    idx = df[df['song'] == song].index[0]\n",
    "    distances = sorted(list(enumerate(similarity[idx])),reverse=False,key=lambda x:x[1])\n",
    "    \n",
    "    songs = []\n",
    "    for i in distances[1:21]:\n",
    "        songs.append(df.iloc[i[0]].song)\n",
    "        \n",
    "    return songs"
   ]
  },
  {
   "cell_type": "code",
   "execution_count": 24,
   "id": "d3b5e806-92ea-4dfc-a227-deda336b7c15",
   "metadata": {},
   "outputs": [
    {
     "data": {
      "text/plain": [
       "[\"Now I'm A Farmer\",\n",
       " 'Judge Not',\n",
       " 'I Gotta Right To Sing The Blues',\n",
       " 'Dancing In The Streets',\n",
       " 'Lady Stardust',\n",
       " 'NO ONE IN THE WORLD',\n",
       " 'Under The Moon Of Love',\n",
       " 'It Only Happens When I Dance With You',\n",
       " 'Merry Christmas Baby',\n",
       " 'Brown Girl In The Ring',\n",
       " \"The Swingin' Shepherd Blues\",\n",
       " \"Tell Me I'm Not Dreamin' (Too Good To Be True)\",\n",
       " \"El Meod Na'ala\",\n",
       " \"You're Losing Me\",\n",
       " 'Proud',\n",
       " 'Coming Soon',\n",
       " \"Don't Break This Rhythm\",\n",
       " 'Face Pollution',\n",
       " 'Broadway Song',\n",
       " 'Just Be A Woman']"
      ]
     },
     "execution_count": 24,
     "metadata": {},
     "output_type": "execute_result"
    }
   ],
   "source": [
    "recommendation('Desire')"
   ]
  },
  {
   "cell_type": "code",
   "execution_count": 25,
   "id": "16c2d305-d6a1-4dfd-9de7-f037711918ec",
   "metadata": {},
   "outputs": [],
   "source": [
    "import pickle\n",
    "pickle.dump(similarity,open('similarity.pkl','wb'))\n",
    "pickle.dump(df,open('df.pkl','wb'))"
   ]
  },
  {
   "cell_type": "code",
   "execution_count": null,
   "id": "c2b5fee7-371b-4507-bd11-5a127499d484",
   "metadata": {},
   "outputs": [],
   "source": []
  }
 ],
 "metadata": {
  "kernelspec": {
   "display_name": "Python 3 (ipykernel)",
   "language": "python",
   "name": "python3"
  },
  "language_info": {
   "codemirror_mode": {
    "name": "ipython",
    "version": 3
   },
   "file_extension": ".py",
   "mimetype": "text/x-python",
   "name": "python",
   "nbconvert_exporter": "python",
   "pygments_lexer": "ipython3",
   "version": "3.11.4"
  }
 },
 "nbformat": 4,
 "nbformat_minor": 5
}
